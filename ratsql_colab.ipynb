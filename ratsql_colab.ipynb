{
  "nbformat": 4,
  "nbformat_minor": 0,
  "metadata": {
    "colab": {
      "name": "ratsql-colab.ipynb",
      "provenance": [],
      "include_colab_link": true
    },
    "kernelspec": {
      "name": "python3",
      "display_name": "Python 3"
    },
    "language_info": {
      "name": "python"
    }
  },
  "cells": [
    {
      "cell_type": "markdown",
      "metadata": {
        "id": "view-in-github",
        "colab_type": "text"
      },
      "source": [
        "<a href=\"https://colab.research.google.com/github/nghoanglong/rat-sql/blob/master/ratsql_colab.ipynb\" target=\"_parent\"><img src=\"https://colab.research.google.com/assets/colab-badge.svg\" alt=\"Open In Colab\"/></a>"
      ]
    },
    {
      "cell_type": "markdown",
      "metadata": {
        "id": "prU1X55m_cHs"
      },
      "source": [
        "Đặt dataset trên drive"
      ]
    },
    {
      "cell_type": "code",
      "metadata": {
        "colab": {
          "base_uri": "https://localhost:8080/"
        },
        "id": "1boTF7FNTNLq",
        "outputId": "3a06fc69-67a5-4986-d69e-85f0f04258ce"
      },
      "source": [
        "from google.colab import drive\n",
        "drive.mount('/content/drive')"
      ],
      "execution_count": 1,
      "outputs": [
        {
          "output_type": "stream",
          "name": "stdout",
          "text": [
            "Mounted at /content/drive\n"
          ]
        }
      ]
    },
    {
      "cell_type": "code",
      "metadata": {
        "colab": {
          "base_uri": "https://localhost:8080/"
        },
        "id": "-bt1Qsk5Btnt",
        "outputId": "e5cf4235-82e0-4b68-e702-e720ecc2f180"
      },
      "source": [
        "!git clone https://github.com/nghoanglong/rat-sql.git"
      ],
      "execution_count": 2,
      "outputs": [
        {
          "output_type": "stream",
          "name": "stdout",
          "text": [
            "Cloning into 'rat-sql'...\n",
            "remote: Enumerating objects: 175, done.\u001b[K\n",
            "remote: Counting objects: 100% (29/29), done.\u001b[K\n",
            "remote: Compressing objects: 100% (24/24), done.\u001b[K\n",
            "remote: Total 175 (delta 7), reused 14 (delta 5), pack-reused 146\u001b[K\n",
            "Receiving objects: 100% (175/175), 132.24 KiB | 1.65 MiB/s, done.\n",
            "Resolving deltas: 100% (54/54), done.\n"
          ]
        }
      ]
    },
    {
      "cell_type": "code",
      "metadata": {
        "colab": {
          "base_uri": "https://localhost:8080/"
        },
        "id": "EO-nWzqWDFEA",
        "outputId": "017485a2-d85d-411a-c2a3-614066a5bb78"
      },
      "source": [
        "%cd /content/rat-sql"
      ],
      "execution_count": 5,
      "outputs": [
        {
          "output_type": "stream",
          "name": "stdout",
          "text": [
            "/content/rat-sql\n"
          ]
        }
      ]
    },
    {
      "cell_type": "code",
      "metadata": {
        "id": "CxXsQOaJCOEM"
      },
      "source": [
        "!pip install -r requirements.txt"
      ],
      "execution_count": null,
      "outputs": []
    },
    {
      "cell_type": "code",
      "metadata": {
        "id": "qOgzTTD4EXYG",
        "colab": {
          "base_uri": "https://localhost:8080/"
        },
        "outputId": "05fefd59-7673-41b4-db95-21484791089d"
      },
      "source": [
        "import nltk\n",
        "nltk.download('stopwords')\n",
        "nltk.download('punkt')"
      ],
      "execution_count": 7,
      "outputs": [
        {
          "output_type": "stream",
          "name": "stderr",
          "text": [
            "[nltk_data] Downloading package stopwords to /root/nltk_data...\n",
            "[nltk_data]   Unzipping corpora/stopwords.zip.\n",
            "[nltk_data] Downloading package punkt to /root/nltk_data...\n",
            "[nltk_data]   Unzipping tokenizers/punkt.zip.\n"
          ]
        },
        {
          "output_type": "execute_result",
          "data": {
            "text/plain": [
              "True"
            ]
          },
          "metadata": {},
          "execution_count": 7
        }
      ]
    },
    {
      "cell_type": "code",
      "metadata": {
        "id": "OxQO9S9EEcaR"
      },
      "source": [
        "from transformers import BertModel\n",
        "BertModel.from_pretrained('bert-large-uncased-whole-word-masking')"
      ],
      "execution_count": null,
      "outputs": []
    },
    {
      "cell_type": "code",
      "metadata": {
        "id": "BeJvQD2MGRD0"
      },
      "source": [
        "!mkdir -p third_party"
      ],
      "execution_count": 9,
      "outputs": []
    },
    {
      "cell_type": "code",
      "metadata": {
        "id": "yxNcvcjXGWTN",
        "colab": {
          "base_uri": "https://localhost:8080/"
        },
        "outputId": "b7ef6a85-8f71-4717-8424-141c4acc22e1"
      },
      "source": [
        "!git clone https://github.com/salesforce/WikiSQL third_party/wikisql"
      ],
      "execution_count": 10,
      "outputs": [
        {
          "output_type": "stream",
          "name": "stdout",
          "text": [
            "Cloning into 'third_party/wikisql'...\n",
            "remote: Enumerating objects: 379, done.\u001b[K\n",
            "remote: Counting objects: 100% (138/138), done.\u001b[K\n",
            "remote: Compressing objects: 100% (134/134), done.\u001b[K\n",
            "remote: Total 379 (delta 84), reused 9 (delta 4), pack-reused 241\u001b[K\n",
            "Receiving objects: 100% (379/379), 50.72 MiB | 9.07 MiB/s, done.\n",
            "Resolving deltas: 100% (205/205), done.\n"
          ]
        }
      ]
    },
    {
      "cell_type": "code",
      "metadata": {
        "colab": {
          "base_uri": "https://localhost:8080/"
        },
        "id": "ZzK30PWOHSEw",
        "outputId": "b20448d6-4c67-43bc-a78d-a7bffdc8b82d"
      },
      "source": [
        "%cd /content/rat-sql"
      ],
      "execution_count": 12,
      "outputs": [
        {
          "output_type": "stream",
          "name": "stdout",
          "text": [
            "/content/rat-sql\n"
          ]
        }
      ]
    },
    {
      "cell_type": "markdown",
      "metadata": {
        "id": "3nU4X1OxBaTs"
      },
      "source": [
        "Những chỗ cần sửa trước khi run\n",
        "1. Folder third_party -> wikisql -> lib -> dbengine.py -> sửa line 4 thành **from .query import Query**\n",
        "2. Folder third_party -> wikisql -> lib -> query.py -> sửa line 1 thành **from .common import detokenize**\n",
        "3. Sửa data_path ở folder expereiments và configs\n",
        "4. Nếu xài bộ vitext2sql thì cần sửa -> configs -> spider -> nl2code-base.libsonnet -> line 24 thành **for s in ['spider']]**, bởi vì bộ vitext2sql ko có file train_others.json"
      ]
    },
    {
      "cell_type": "code",
      "metadata": {
        "id": "WyrSLBa9EvdG"
      },
      "source": [
        "!python run.py preprocess /content/rat-sql/experiments/spider-glove-run.jsonnet"
      ],
      "execution_count": null,
      "outputs": []
    },
    {
      "cell_type": "code",
      "metadata": {
        "id": "J3J-L53DGizk"
      },
      "source": [
        "!python run.py train /content/ratsql-baseline-Text2SQL/experiments/spider-glove-run.jsonnet"
      ],
      "execution_count": null,
      "outputs": []
    },
    {
      "cell_type": "code",
      "metadata": {
        "id": "rFHPsOCmBReK"
      },
      "source": [
        "!python run.py eval /content/ratsql-baseline-Text2SQL/experiments/spider-glove-run.jsonnet"
      ],
      "execution_count": null,
      "outputs": []
    }
  ]
}