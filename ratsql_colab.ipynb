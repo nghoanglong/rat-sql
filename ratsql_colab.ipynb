{
  "nbformat": 4,
  "nbformat_minor": 0,
  "metadata": {
    "colab": {
      "name": "ratsql-colab.ipynb",
      "provenance": [],
      "collapsed_sections": [
        "rsdXHTkxEmNF",
        "sN2diPHD7WSa",
        "PctDLNOC7bx9",
        "U7Ix4rW6lTLy"
      ],
      "machine_shape": "hm",
      "include_colab_link": true
    },
    "kernelspec": {
      "display_name": "Python 3",
      "name": "python3"
    },
    "language_info": {
      "name": "python"
    },
    "accelerator": "GPU"
  },
  "cells": [
    {
      "cell_type": "markdown",
      "metadata": {
        "id": "view-in-github",
        "colab_type": "text"
      },
      "source": [
        "<a href=\"https://colab.research.google.com/github/nghoanglong/rat-sql/blob/master/ratsql_colab.ipynb\" target=\"_parent\"><img src=\"https://colab.research.google.com/assets/colab-badge.svg\" alt=\"Open In Colab\"/></a>"
      ]
    },
    {
      "cell_type": "code",
      "metadata": {
        "id": "UK9Rpnhfz7L1"
      },
      "source": [
        "gpu_info = !nvidia-smi\n",
        "gpu_info = '\\n'.join(gpu_info)\n",
        "if gpu_info.find('failed') >= 0:\n",
        "  print('Not connected to a GPU')\n",
        "else:\n",
        "  print(gpu_info)"
      ],
      "execution_count": null,
      "outputs": []
    },
    {
      "cell_type": "markdown",
      "metadata": {
        "id": "L0JOJFyzht7T"
      },
      "source": [
        "# Set up and Install requirements"
      ]
    },
    {
      "cell_type": "code",
      "metadata": {
        "id": "1boTF7FNTNLq"
      },
      "source": [
        "from google.colab import drive\n",
        "drive.mount('/content/drive')"
      ],
      "execution_count": null,
      "outputs": []
    },
    {
      "cell_type": "code",
      "metadata": {
        "id": "-bt1Qsk5Btnt"
      },
      "source": [
        "!git clone https://github.com/nghoanglong/rat-sql.git"
      ],
      "execution_count": null,
      "outputs": []
    },
    {
      "cell_type": "code",
      "metadata": {
        "id": "EO-nWzqWDFEA"
      },
      "source": [
        "%cd /content/rat-sql"
      ],
      "execution_count": null,
      "outputs": []
    },
    {
      "cell_type": "code",
      "metadata": {
        "id": "CxXsQOaJCOEM"
      },
      "source": [
        "!pip install -r requirements.txt"
      ],
      "execution_count": null,
      "outputs": []
    },
    {
      "cell_type": "code",
      "metadata": {
        "id": "qOgzTTD4EXYG"
      },
      "source": [
        "import nltk\n",
        "nltk.download('stopwords')\n",
        "nltk.download('punkt')"
      ],
      "execution_count": null,
      "outputs": []
    },
    {
      "cell_type": "code",
      "metadata": {
        "id": "OxQO9S9EEcaR"
      },
      "source": [
        "from transformers import BertModel\n",
        "BertModel.from_pretrained('bert-large-uncased-whole-word-masking')"
      ],
      "execution_count": null,
      "outputs": []
    },
    {
      "cell_type": "code",
      "metadata": {
        "id": "BeJvQD2MGRD0"
      },
      "source": [
        "!mkdir -p third_party"
      ],
      "execution_count": null,
      "outputs": []
    },
    {
      "cell_type": "code",
      "metadata": {
        "id": "yxNcvcjXGWTN"
      },
      "source": [
        "!git clone https://github.com/salesforce/WikiSQL third_party/wikisql"
      ],
      "execution_count": null,
      "outputs": []
    },
    {
      "cell_type": "code",
      "metadata": {
        "colab": {
          "base_uri": "https://localhost:8080/"
        },
        "id": "ZzK30PWOHSEw",
        "outputId": "bbef6984-149d-47d5-94be-803773853bb8"
      },
      "source": [
        "%cd /content/rat-sql"
      ],
      "execution_count": null,
      "outputs": [
        {
          "output_type": "stream",
          "name": "stdout",
          "text": [
            "/content/rat-sql\n"
          ]
        }
      ]
    },
    {
      "cell_type": "markdown",
      "metadata": {
        "id": "rsdXHTkxEmNF"
      },
      "source": [
        "# Run Spider"
      ]
    },
    {
      "cell_type": "markdown",
      "metadata": {
        "id": "sN2diPHD7WSa"
      },
      "source": [
        "## Spider - Glove"
      ]
    },
    {
      "cell_type": "code",
      "metadata": {
        "id": "WyrSLBa9EvdG"
      },
      "source": [
        "!python run.py preprocess /content/rat-sql/experiments/spider-glove-run.jsonnet"
      ],
      "execution_count": null,
      "outputs": []
    },
    {
      "cell_type": "code",
      "metadata": {
        "id": "J3J-L53DGizk"
      },
      "source": [
        "!python run.py train /content/rat-sql/experiments/spider-glove-run.jsonnet"
      ],
      "execution_count": null,
      "outputs": []
    },
    {
      "cell_type": "code",
      "metadata": {
        "id": "n_FWR_-3vWve"
      },
      "source": [
        "!python run.py eval /content/rat-sql/experiments/spider-glove-run.jsonnet"
      ],
      "execution_count": null,
      "outputs": []
    },
    {
      "cell_type": "markdown",
      "metadata": {
        "id": "PctDLNOC7bx9"
      },
      "source": [
        "## Spider - Bert"
      ]
    },
    {
      "cell_type": "code",
      "metadata": {
        "colab": {
          "base_uri": "https://localhost:8080/"
        },
        "id": "nsuGLoXw_Dt2",
        "outputId": "3412f8c8-29a4-494a-cdc4-e4c46175e6d7"
      },
      "source": [
        "!python run.py preprocess /content/rat-sql/experiments/spider-bert-run.jsonnet"
      ],
      "execution_count": null,
      "outputs": [
        {
          "output_type": "stream",
          "name": "stdout",
          "text": [
            "\rDownloading https://huggingface.co/stanfordnlp/CoreNLP/resolve/main/stanford-corenlp-latest.zip: 100% 505M/505M [00:05<00:00, 100MB/s] \n",
            "2021-10-28 09:14:19 WARNING: For customized installation location, please set the `CORENLP_HOME` environment variable to the location of the installation. In Unix, this is done with `export CORENLP_HOME=/content/rat-sql/third_party/stanford-corenlp-full-2018-10-05`.\n",
            "2021-10-28 09:14:19 INFO: Writing properties to tmp file: corenlp_server-5998d88a11be49f6.props\n",
            "client: <stanza.server.client.CoreNLPClient object at 0x7fce244cce50>\n",
            "2021-10-28 09:14:19 INFO: Starting server with command: java -Xmx4G -cp /content/rat-sql/third_party/stanford-corenlp-full-2018-10-05/* edu.stanford.nlp.pipeline.StanfordCoreNLPServer -port 9001 -timeout 60000 -threads 5 -maxCharLength 100000 -quiet True -serverProperties corenlp_server-5998d88a11be49f6.props -annotators tokenize,ssplit,pos,lemma,ner -preload -outputFormat serialized\n",
            "train section: 100% 7000/7000 [31:16<00:00,  3.73it/s]\n",
            "DB connections: 100% 166/166 [00:01<00:00, 129.38it/s]\n",
            "val section: 100% 1034/1034 [11:45<00:00,  1.47it/s]\n"
          ]
        }
      ]
    },
    {
      "cell_type": "code",
      "metadata": {
        "id": "qmU9oiG4Rl19",
        "colab": {
          "base_uri": "https://localhost:8080/"
        },
        "outputId": "86e3208d-eed0-4450-8df3-0c37d73a3e5e"
      },
      "source": [
        "!python run.py train /content/rat-sql/experiments/spider-bert-run.jsonnet"
      ],
      "execution_count": null,
      "outputs": [
        {
          "output_type": "stream",
          "name": "stdout",
          "text": [
            "[2021-10-28T09:58:21] Logging to /content/drive/MyDrive/Datasets/ratsql/datasets/spider/logdir/bs=3,lr=7.4e-04,bert_lr=3.0e-06,end_lr=0e0,att=1\n",
            "Some weights of the model checkpoint at bert-large-uncased-whole-word-masking were not used when initializing BertModel: ['cls.predictions.transform.LayerNorm.bias', 'cls.predictions.transform.dense.weight', 'cls.predictions.decoder.weight', 'cls.predictions.transform.dense.bias', 'cls.predictions.bias', 'cls.predictions.transform.LayerNorm.weight', 'cls.seq_relationship.weight', 'cls.seq_relationship.bias']\n",
            "- This IS expected if you are initializing BertModel from the checkpoint of a model trained on another task or with another architecture (e.g. initializing a BertForSequenceClassification model from a BertForPreTraining model).\n",
            "- This IS NOT expected if you are initializing BertModel from the checkpoint of a model that you expect to be exactly identical (initializing a BertForSequenceClassification model from a BertForSequenceClassification model).\n",
            "[2021-10-28T09:58:45] Step 0 stats, train: loss = 160.08171844482422\n",
            "[2021-10-28T09:58:57] Step 0 stats, val: loss = 190.71556091308594\n",
            "[2021-10-28T09:59:02] Step 0: loss=194.38427734375\n",
            "[2021-10-28T10:00:35] Step 10: loss=166.95787048339844\n",
            "[2021-10-28T10:01:25] Step 20: loss=230.46824645996094\n",
            "Traceback (most recent call last):\n",
            "  File \"/content/rat-sql/ratsql/commands/train.py\", line 208, in train\n",
            "    loss = self.model.compute_loss(batch)\n",
            "  File \"/content/rat-sql/ratsql/models/enc_dec.py\", line 76, in _compute_loss_enc_batched\n",
            "    enc_states = self.encoder([enc_input for enc_input, dec_output in batch])\n",
            "  File \"/usr/local/lib/python3.7/dist-packages/torch/nn/modules/module.py\", line 550, in __call__\n",
            "    result = self.forward(*input, **kwargs)\n",
            "  File \"/content/rat-sql/ratsql/models/spider/spider_enc.py\", line 1037, in forward\n",
            "    attention_mask=att_masks_tensor, token_type_ids=tok_type_tensor)[0]\n",
            "  File \"/usr/local/lib/python3.7/dist-packages/torch/nn/modules/module.py\", line 550, in __call__\n",
            "    result = self.forward(*input, **kwargs)\n",
            "  File \"/usr/local/lib/python3.7/dist-packages/transformers/models/bert/modeling_bert.py\", line 1005, in forward\n",
            "    return_dict=return_dict,\n",
            "  File \"/usr/local/lib/python3.7/dist-packages/torch/nn/modules/module.py\", line 550, in __call__\n",
            "    result = self.forward(*input, **kwargs)\n",
            "  File \"/usr/local/lib/python3.7/dist-packages/transformers/models/bert/modeling_bert.py\", line 589, in forward\n",
            "    output_attentions,\n",
            "  File \"/usr/local/lib/python3.7/dist-packages/torch/nn/modules/module.py\", line 550, in __call__\n",
            "    result = self.forward(*input, **kwargs)\n",
            "  File \"/usr/local/lib/python3.7/dist-packages/transformers/models/bert/modeling_bert.py\", line 475, in forward\n",
            "    past_key_value=self_attn_past_key_value,\n",
            "  File \"/usr/local/lib/python3.7/dist-packages/torch/nn/modules/module.py\", line 550, in __call__\n",
            "    result = self.forward(*input, **kwargs)\n",
            "  File \"/usr/local/lib/python3.7/dist-packages/transformers/models/bert/modeling_bert.py\", line 410, in forward\n",
            "    attention_output = self.output(self_outputs[0], hidden_states)\n",
            "  File \"/usr/local/lib/python3.7/dist-packages/torch/nn/modules/module.py\", line 550, in __call__\n",
            "    result = self.forward(*input, **kwargs)\n",
            "  File \"/usr/local/lib/python3.7/dist-packages/transformers/models/bert/modeling_bert.py\", line 361, in forward\n",
            "    hidden_states = self.dropout(hidden_states)\n",
            "  File \"/usr/local/lib/python3.7/dist-packages/torch/nn/modules/module.py\", line 550, in __call__\n",
            "    result = self.forward(*input, **kwargs)\n",
            "  File \"/usr/local/lib/python3.7/dist-packages/torch/nn/modules/dropout.py\", line 54, in forward\n",
            "    return F.dropout(input, self.p, self.training, self.inplace)\n",
            "  File \"/usr/local/lib/python3.7/dist-packages/torch/nn/functional.py\", line 936, in dropout\n",
            "    else _VF.dropout(input, p, training))\n",
            "KeyboardInterrupt\n",
            "\n",
            "During handling of the above exception, another exception occurred:\n",
            "\n",
            "Traceback (most recent call last):\n",
            "  File \"run.py\", line 109, in <module>\n",
            "    main()\n",
            "  File \"run.py\", line 77, in main\n",
            "    train.main(train_config)\n",
            "  File \"/content/rat-sql/ratsql/commands/train.py\", line 296, in main\n",
            "    trainer.train(config, modeldir=args.logdir)\n",
            "  File \"/content/rat-sql/ratsql/commands/train.py\", line 208, in train\n",
            "    loss = self.model.compute_loss(batch)\n",
            "KeyboardInterrupt\n"
          ]
        }
      ]
    },
    {
      "cell_type": "code",
      "metadata": {
        "id": "59ViJQmW7f6y"
      },
      "source": [
        "!python run.py eval /content/rat-sql/experiments/spider-bert-run.jsonnet"
      ],
      "execution_count": null,
      "outputs": []
    },
    {
      "cell_type": "markdown",
      "metadata": {
        "id": "Gmx6jnv-Evcg"
      },
      "source": [
        "# Run vitext2sql"
      ]
    },
    {
      "cell_type": "code",
      "metadata": {
        "id": "qSPCzCFsn5rF"
      },
      "source": [
        "!wget -P /content/rat-sql/third_party/phow2v_emb https://public.vinai.io/word2vec_vi_words_300dims.zip"
      ],
      "execution_count": null,
      "outputs": []
    },
    {
      "cell_type": "code",
      "metadata": {
        "colab": {
          "base_uri": "https://localhost:8080/"
        },
        "id": "U7_vDnuokjFt",
        "outputId": "ce251c5e-3467-4404-c6f4-ff5654f0b03d"
      },
      "source": [
        "cd /content/rat-sql/third_party/phow2v_emb"
      ],
      "execution_count": null,
      "outputs": [
        {
          "output_type": "stream",
          "name": "stdout",
          "text": [
            "/content/rat-sql/third_party/phow2v_emb\n"
          ]
        }
      ]
    },
    {
      "cell_type": "code",
      "metadata": {
        "colab": {
          "base_uri": "https://localhost:8080/"
        },
        "id": "Kk12ktWLotg1",
        "outputId": "4280001b-232c-4c86-8263-83df05b8d949"
      },
      "source": [
        "!unzip /content/rat-sql/third_party/phow2v_emb/word2vec_vi_words_300dims.zip"
      ],
      "execution_count": null,
      "outputs": [
        {
          "output_type": "stream",
          "name": "stdout",
          "text": [
            "Archive:  /content/rat-sql/third_party/phow2v_emb/word2vec_vi_words_300dims.zip\n",
            "  inflating: word2vec_vi_words_300dims.txt  \n"
          ]
        }
      ]
    },
    {
      "cell_type": "code",
      "metadata": {
        "colab": {
          "base_uri": "https://localhost:8080/"
        },
        "id": "nL1JAgV-lu4L",
        "outputId": "16c4b247-3580-447a-9f35-c2b6d142a9b8"
      },
      "source": [
        "cd /content/rat-sql"
      ],
      "execution_count": null,
      "outputs": [
        {
          "output_type": "stream",
          "name": "stdout",
          "text": [
            "/content/rat-sql\n"
          ]
        }
      ]
    },
    {
      "cell_type": "markdown",
      "metadata": {
        "id": "U7Ix4rW6lTLy"
      },
      "source": [
        "## Run Vitext2sql - No PhoBert"
      ]
    },
    {
      "cell_type": "code",
      "metadata": {
        "id": "rFHPsOCmBReK"
      },
      "source": [
        "!python run.py preprocess /content/rat-sql/experiments/vitext2sql-phow2v-run.jsonnet"
      ],
      "execution_count": null,
      "outputs": []
    },
    {
      "cell_type": "code",
      "metadata": {
        "id": "Qz18m5uZFKcL"
      },
      "source": [
        "!python run.py train /content/rat-sql/experiments/vitext2sql-phow2v-run.jsonnet"
      ],
      "execution_count": null,
      "outputs": []
    },
    {
      "cell_type": "code",
      "metadata": {
        "id": "7ykua6glFKtG"
      },
      "source": [
        "!python run.py eval /content/rat-sql/experiments/vitext2sql-phow2v-run.jsonnet"
      ],
      "execution_count": null,
      "outputs": []
    },
    {
      "cell_type": "markdown",
      "metadata": {
        "id": "3JAkRQbQlhUL"
      },
      "source": [
        "## Run Vitext2SQL - PhoBert"
      ]
    },
    {
      "cell_type": "code",
      "metadata": {
        "id": "v5iVKhZ4llUr"
      },
      "source": [
        "!python run.py preprocess /content/rat-sql/experiments/vitext2sql-phobert-run.jsonnet"
      ],
      "execution_count": null,
      "outputs": []
    },
    {
      "cell_type": "code",
      "metadata": {
        "id": "KW01oNrOtW-H"
      },
      "source": [
        "!python run.py train /content/rat-sql/experiments/vitext2sql-phobert-run.jsonnet"
      ],
      "execution_count": null,
      "outputs": []
    }
  ]
}